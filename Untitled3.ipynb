{
  "nbformat": 4,
  "nbformat_minor": 0,
  "metadata": {
    "colab": {
      "name": "Untitled3.ipynb",
      "provenance": []
    },
    "kernelspec": {
      "name": "python3",
      "display_name": "Python 3"
    },
    "language_info": {
      "name": "python"
    }
  },
  "cells": [
    {
      "cell_type": "markdown",
      "source": [
        "Practical No 4\n",
        "Practical Name:- Write a progarm to create, concatenate an a print a string an accesssing sub-string from a given sting "
      ],
      "metadata": {
        "id": "YVQjNnpE7qC7"
      }
    },
    {
      "cell_type": "code",
      "execution_count": 1,
      "metadata": {
        "colab": {
          "base_uri": "https://localhost:8080/"
        },
        "id": "_dpXqT2D7hPy",
        "outputId": "7b7ac388-d539-483e-e77e-32b9b5f0df2b"
      },
      "outputs": [
        {
          "output_type": "stream",
          "name": "stdout",
          "text": [
            "Enter first String : 10\n",
            "Enter second String : 20\n",
            "First string is :  10\n",
            "Second string is :  20\n",
            "concatenations of two strings : 1020\n",
            "Substring of given string : 0\n"
          ]
        }
      ],
      "source": [
        "s1=input(\"Enter first String : \"); \n",
        "s2=input(\"Enter second String : \");\n",
        "print(\"First string is : \",s1);\n",
        "print(\"Second string is : \",s2);\n",
        "print(\"concatenations of two strings :\",s1+s2);\n",
        "print(\"Substring of given string :\",s1[1:3]);"
      ]
    }
  ]
}